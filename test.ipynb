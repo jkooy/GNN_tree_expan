{
 "cells": [
  {
   "cell_type": "code",
   "execution_count": 1,
   "metadata": {},
   "outputs": [
    {
     "name": "stdout",
     "output_type": "stream",
     "text": [
      "Using backend: pytorch\n",
      "no need to save case study results\n",
      "generating intermediate data ...: 100%|█| 27204/27204 [00:00<00:00, 161750.00it/s]\n",
      "Remove 3805 edges between test nodes and training nodes\n",
      "Finish loading dataset (1.4356200695037842 seconds)\n",
      "MaskedGraphDataLoader mode: test\n",
      "\tsampling_mode: 0\n",
      "\tbatch_size: 1\n",
      "\tnegative_size: 20\n",
      "\texpand_factor: 50\n",
      "\tcache_refresh_time: 100000000\n",
      "\tnormalize_embed: True\n",
      "TaxoExpan(\n",
      "  (graph_propagate): PGAT(\n",
      "    (gat_layers): ModuleList(\n",
      "      (0): GATLayer(\n",
      "        (fc): Linear(in_features=300, out_features=2000, bias=False)\n",
      "        (feat_drop): Dropout(p=0.1, inplace=False)\n",
      "        (attn_drop): Dropout(p=0.1, inplace=False)\n",
      "        (leaky_relu): LeakyReLU(negative_slope=0.2)\n",
      "      )\n",
      "      (1): GATLayer(\n",
      "        (fc): Linear(in_features=2050, out_features=500, bias=False)\n",
      "        (feat_drop): Dropout(p=0.1, inplace=False)\n",
      "        (attn_drop): Dropout(p=0.1, inplace=False)\n",
      "        (leaky_relu): LeakyReLU(negative_slope=0.2)\n",
      "      )\n",
      "    )\n",
      "    (prop_position_embeddings): ModuleList(\n",
      "      (0): Embedding(3, 50)\n",
      "      (1): Embedding(3, 50)\n",
      "    )\n",
      "  )\n",
      "  (readout): WeightedMeanReadout(\n",
      "    (position_weights): Embedding(3, 1)\n",
      "  )\n",
      "  (match): BIM(\n",
      "    (W): Bilinear(in1_features=500, in2_features=250, out_features=1, bias=False)\n",
      "  )\n",
      ")\n",
      "Trainable parameters: 1755303\n",
      "Loading checkpoint: datadrive/models/TaxoExpan/0613_153247/checkpoint-epoch31.pth ...\n",
      "Number of queries: 2450\n",
      "100%|███████████████████████████████████| 24754/24754 [00:08<00:00, 3019.88it/s]\n",
      "Small batch mode\n",
      "2450it [00:07, 340.74it/s]\n",
      "{'macro_mr': 83.16773596938775, 'micro_mr': 83.16773596938775, 'hit_at_1': 0.21222095723054846, 'hit_at_3': 0.3882710608657525, 'mrr_scaled_10': 0.6956429866868622, 'test_topk': -1}\n"
     ]
    }
   ],
   "source": [
    "!python test_fast.py --resume datadrive/models/TaxoExpan/0613_153247/checkpoint-epoch31.pth --device 0"
   ]
  },
  {
   "cell_type": "code",
   "execution_count": 4,
   "metadata": {},
   "outputs": [
    {
     "name": "stdout",
     "output_type": "stream",
     "text": [
      "Using backend: pytorch\n",
      "generating intermediate data ...: 100%|█| 24754/24754 [00:00<00:00, 36478.42it/s]\n",
      "Finish loading dataset (1.8201489448547363 seconds)\n",
      "MaskedGraphDataLoader mode: train\n",
      "\tsampling_mode: 1\n",
      "\tbatch_size: 128\n",
      "\tnegative_size: 31\n",
      "\texpand_factor: 50\n",
      "\tcache_refresh_time: 64\n",
      "\tnormalize_embed: True\n",
      "generating intermediate data ...: 100%|█| 27204/27204 [00:00<00:00, 55532.69it/s]\n",
      "Remove 3919 edges between validation nodes and training nodes\n",
      "Finish loading dataset (1.603459119796753 seconds)\n",
      "MaskedGraphDataLoader mode: validation\n",
      "\tsampling_mode: 0\n",
      "\tbatch_size: 128\n",
      "\tnegative_size: 256\n",
      "\texpand_factor: 50\n",
      "\tcache_refresh_time: 100000000\n",
      "\tnormalize_embed: True\n",
      "TaxoExpan(\n",
      "  (graph_propagate): PGAT(\n",
      "    (gat_layers): ModuleList(\n",
      "      (0): GATLayer(\n",
      "        (fc): Linear(in_features=300, out_features=2000, bias=False)\n",
      "        (feat_drop): Dropout(p=0.1, inplace=False)\n",
      "        (attn_drop): Dropout(p=0.1, inplace=False)\n",
      "        (leaky_relu): LeakyReLU(negative_slope=0.2)\n",
      "      )\n",
      "      (1): GATLayer(\n",
      "        (fc): Linear(in_features=2050, out_features=500, bias=False)\n",
      "        (feat_drop): Dropout(p=0.1, inplace=False)\n",
      "        (attn_drop): Dropout(p=0.1, inplace=False)\n",
      "        (leaky_relu): LeakyReLU(negative_slope=0.2)\n",
      "      )\n",
      "    )\n",
      "    (prop_position_embeddings): ModuleList(\n",
      "      (0): Embedding(3, 50)\n",
      "      (1): Embedding(3, 50)\n",
      "    )\n",
      "  )\n",
      "  (readout): WeightedMeanReadout(\n",
      "    (position_weights): Embedding(3, 1)\n",
      "  )\n",
      "  (match): BIM(\n",
      "    (W): Bilinear(in1_features=500, in2_features=250, out_features=1, bias=False)\n",
      "  )\n",
      ")\n",
      "Trainable parameters: 1755303\n",
      "Train Epoch: 1 [0/24753 (0%)] Loss: 433.961395\n",
      "Saving checkpoint: datadrive/models/TaxoExpan/0616_155833/checkpoint-epoch1.pth ...\n",
      "Train Epoch: 1 [1408/24753 (6%)] Loss: 197.023773\n",
      "Saving checkpoint: datadrive/models/TaxoExpan/0616_155833/checkpoint-epoch1.pth ...\n",
      "Train Epoch: 1 [2816/24753 (11%)] Loss: 161.597504\n",
      "Saving checkpoint: datadrive/models/TaxoExpan/0616_155833/checkpoint-epoch1.pth ...\n",
      "Train Epoch: 1 [4224/24753 (17%)] Loss: 154.940628\n",
      "Saving checkpoint: datadrive/models/TaxoExpan/0616_155833/checkpoint-epoch1.pth ...\n",
      "Train Epoch: 1 [5632/24753 (23%)] Loss: 131.187286\n",
      "Saving checkpoint: datadrive/models/TaxoExpan/0616_155833/checkpoint-epoch1.pth ...\n",
      "^C\n",
      "Traceback (most recent call last):\n",
      "  File \"train.py\", line 88, in <module>\n",
      "    main(config)\n",
      "  File \"train.py\", line 46, in main\n",
      "    trainer.train()\n",
      "  File \"/home/x5he/TaxoExpan/base/base_trainer.py\", line 64, in train\n",
      "    result = self._train_epoch(epoch)\n",
      "  File \"/home/x5he/TaxoExpan/trainer/trainer.py\", line 51, in _train_epoch\n",
      "    for batch_idx, batch_example in enumerate(self.data_loader):\n",
      "  File \"/opt/conda/lib/python3.7/site-packages/torch/utils/data/dataloader.py\", line 804, in __next__\n",
      "    idx, data = self._get_data()\n",
      "  File \"/opt/conda/lib/python3.7/site-packages/torch/utils/data/dataloader.py\", line 761, in _get_data\n",
      "    success, data = self._try_get_data()\n",
      "  File \"/opt/conda/lib/python3.7/site-packages/torch/utils/data/dataloader.py\", line 724, in _try_get_data\n",
      "    data = self._data_queue.get(timeout=timeout)\n",
      "  File \"/opt/conda/lib/python3.7/queue.py\", line 179, in get\n",
      "    self.not_empty.wait(remaining)\n",
      "  File \"/opt/conda/lib/python3.7/threading.py\", line 300, in wait\n",
      "    gotit = waiter.acquire(True, timeout)\n",
      "KeyboardInterrupt\n",
      "\n",
      "If you suspect this is an IPython bug, please report it at:\n",
      "    https://github.com/ipython/ipython/issues\n",
      "or send an email to the mailing list at ipython-dev@python.org\n",
      "\n",
      "You can print a more detailed traceback right now with \"%tb\", or use \"%debug\"\n",
      "to interactively debug it.\n",
      "\n",
      "Extra-detailed tracebacks for bug-reporting purposes can be enabled via:\n",
      "    %config Application.verbose_crash=True\n",
      "\n"
     ]
    }
   ],
   "source": [
    "!python train.py --config config_files/config.universal.json"
   ]
  },
  {
   "cell_type": "code",
   "execution_count": 4,
   "metadata": {},
   "outputs": [
    {
     "name": "stdout",
     "output_type": "stream",
     "text": [
      "--2020-06-15 20:54:04--  https://groups.csail.mit.edu/cb/mashup/vectors/string_human_genes.txt\n",
      "Resolving web.ucsd.edu (web.ucsd.edu)... 132.239.1.230, 132.239.1.231\n",
      "Connecting to web.ucsd.edu (web.ucsd.edu)|132.239.1.230|:3128... connected.\n",
      "Proxy request sent, awaiting response... 200 OK\n",
      "Length: 139613 (136K) [text/plain]\n",
      "Saving to: ‘string_human_genes.txt’\n",
      "\n",
      "string_human_genes. 100%[===================>] 136.34K   576KB/s    in 0.2s    \n",
      "\n",
      "2020-06-15 20:54:05 (576 KB/s) - ‘string_human_genes.txt’ saved [139613/139613]\n",
      "\n"
     ]
    }
   ],
   "source": [
    "!wget https://groups.csail.mit.edu/cb/mashup/vectors/string_human_genes.txt"
   ]
  },
  {
   "cell_type": "code",
   "execution_count": 3,
   "metadata": {},
   "outputs": [
    {
     "name": "stdout",
     "output_type": "stream",
     "text": [
      "--2020-06-14 20:41:11--  https://groups.csail.mit.edu/cb/mashup/vectors/string_human_mashup_vectors_d800.txt\n",
      "Resolving web.ucsd.edu (web.ucsd.edu)... 132.239.1.230, 132.239.1.231\n",
      "Connecting to web.ucsd.edu (web.ucsd.edu)|132.239.1.230|:3128... connected.\n",
      "Proxy request sent, awaiting response... 200 OK\n",
      "Length: 135833356 (130M) [text/plain]\n",
      "Saving to: ‘string_human_mashup_vectors_d800.txt’\n",
      "\n",
      "string_human_mashup 100%[===================>] 129.54M  6.18MB/s    in 23s     \n",
      "\n",
      "2020-06-14 20:41:35 (5.74 MB/s) - ‘string_human_mashup_vectors_d800.txt’ saved [135833356/135833356]\n",
      "\n"
     ]
    }
   ],
   "source": [
    "!wget https://groups.csail.mit.edu/cb/mashup/vectors/string_human_mashup_vectors_d800.txt"
   ]
  },
  {
   "cell_type": "code",
   "execution_count": null,
   "metadata": {},
   "outputs": [],
   "source": []
  }
 ],
 "metadata": {
  "kernelspec": {
   "display_name": "Python 3",
   "language": "python",
   "name": "python3"
  },
  "language_info": {
   "codemirror_mode": {
    "name": "ipython",
    "version": 3
   },
   "file_extension": ".py",
   "mimetype": "text/x-python",
   "name": "python",
   "nbconvert_exporter": "python",
   "pygments_lexer": "ipython3",
   "version": "3.7.3"
  }
 },
 "nbformat": 4,
 "nbformat_minor": 2
}
